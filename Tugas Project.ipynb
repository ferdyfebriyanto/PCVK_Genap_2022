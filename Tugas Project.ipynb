{
  "nbformat": 4,
  "nbformat_minor": 0,
  "metadata": {
    "colab": {
      "name": "TI3A_1941720007_FerdyFebriyanto_PCVK_TugasBesar.ipynb",
      "provenance": [],
      "authorship_tag": "ABX9TyMRfoUjulhz+7U1kqYD/hPY",
      "include_colab_link": true
    },
    "kernelspec": {
      "name": "python3",
      "display_name": "Python 3"
    },
    "language_info": {
      "name": "python"
    }
  },
  "cells": [
    {
      "cell_type": "markdown",
      "metadata": {
        "id": "view-in-github",
        "colab_type": "text"
      },
      "source": [
        "<a href=\"https://colab.research.google.com/github/ferdyfebriyanto/PCVK_Genap_2022/blob/main/Tugas%20Project.ipynb\" target=\"_parent\"><img src=\"https://colab.research.google.com/assets/colab-badge.svg\" alt=\"Open In Colab\"/></a>"
      ]
    },
    {
      "cell_type": "code",
      "execution_count": null,
      "metadata": {
        "id": "Ddlrob5oJ19j"
      },
      "outputs": [],
      "source": [
        ""
      ]
    }
  ]
}